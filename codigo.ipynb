{
 "cells": [
  {
   "cell_type": "code",
   "execution_count": 1,
   "metadata": {},
   "outputs": [
    {
     "name": "stdout",
     "output_type": "stream",
     "text": [
      "meu codigo no jupyter\n"
     ]
    }
   ],
   "source": [
    "print('meu codigo no jupyter')\n"
   ]
  },
  {
   "cell_type": "code",
   "execution_count": 4,
   "metadata": {},
   "outputs": [
    {
     "name": "stdout",
     "output_type": "stream",
     "text": [
      "Infelizmente não batemos a meta, vendemos 15000 unidades. A meta era 50000 unidades\n"
     ]
    }
   ],
   "source": [
    "meta = 50000\n",
    "qtde_vendida = 15000\n",
    "\n",
    "if qtde_vendida > meta:\n",
    "    print('Batemos a meta de venda de Iphone, vendemos {} unidades'. format(qtde_vendida))\n",
    "else:\n",
    "    print('Infelizmente não batemos a meta, vendemos {} unidades. A meta era {} unidades'. format(qtde_vendida, meta))    \n",
    "\n"
   ]
  },
  {
   "cell_type": "code",
   "execution_count": 15,
   "metadata": {},
   "outputs": [
    {
     "name": "stdout",
     "output_type": "stream",
     "text": [
      "A taxa foi de 0.04\n"
     ]
    }
   ],
   "source": [
    "meta = 0.05\n",
    "taxa = 0 \n",
    "rendimento = 0.25\n",
    "\n",
    "if rendimento > meta:\n",
    "    if rendimento > 0.20:\n",
    "        taxa = 0.04\n",
    "        print('A taxa foi de {}'. format(taxa))\n",
    "    else:\n",
    "        taxa = 0.02 \n",
    "        print('A taxa foi de {}'. format(taxa))\n",
    "else:\n",
    "    taxa = 0\n",
    "    print('A taxa foi de {}'. format(taxa))"
   ]
  },
  {
   "cell_type": "code",
   "execution_count": 3,
   "metadata": {},
   "outputs": [
    {
     "name": "stdout",
     "output_type": "stream",
     "text": [
      "21\n",
      "15\n",
      "i\n"
     ]
    }
   ],
   "source": [
    "email = \"gislaine480@gmail.com\"\n",
    "nome = 'Gislaine Vieira'\n",
    "\n",
    "print(len(email)) #aqui ele vai me dar q quantidade de caracteres que tem o email \n",
    "print(len(nome)) #aqui ele vai me dar a quantidade que tem o nome\n",
    "print(email[5]) #aqui ele vai puxar o índice em número "
   ]
  },
  {
   "cell_type": "code",
   "execution_count": null,
   "metadata": {},
   "outputs": [],
   "source": []
  }
 ],
 "metadata": {
  "kernelspec": {
   "display_name": "Python 3",
   "language": "python",
   "name": "python3"
  },
  "language_info": {
   "codemirror_mode": {
    "name": "ipython",
    "version": 3
   },
   "file_extension": ".py",
   "mimetype": "text/x-python",
   "name": "python",
   "nbconvert_exporter": "python",
   "pygments_lexer": "ipython3",
   "version": "3.13.0"
  }
 },
 "nbformat": 4,
 "nbformat_minor": 2
}
